{
 "cells": [
  {
   "cell_type": "code",
   "execution_count": 1,
   "metadata": {},
   "outputs": [],
   "source": [
    "import pandas as pd"
   ]
  },
  {
   "cell_type": "code",
   "execution_count": 2,
   "metadata": {},
   "outputs": [],
   "source": [
    "orders = pd.read_csv('data/olist_orders_dataset.csv')\n",
    "order_items = pd.read_csv('data/olist_order_items_dataset.csv')\n",
    "category_translation = pd.read_csv('data/product_category_name_translation.csv')\n",
    "products = pd.read_csv('data/olist_products_dataset.csv')\n",
    "customers = pd.read_csv('data/olist_customers_dataset.csv')\n",
    "geolocation = pd.read_csv('data/olist_geolocation_dataset.csv')\n",
    "reviews = pd.read_csv('data/olist_order_reviews_dataset.csv')[['order_id', 'review_score']]"
   ]
  },
  {
   "cell_type": "code",
   "execution_count": 3,
   "metadata": {},
   "outputs": [],
   "source": [
    "# Filter the DataFrame to exclude orders after August 2018\n",
    "cutoff_date = pd.Timestamp('2018-09-01')\n",
    "orders['order_purchase_timestamp'] = pd.to_datetime(orders['order_purchase_timestamp'], errors='coerce')\n",
    "orders = orders[orders['order_purchase_timestamp'] < cutoff_date]"
   ]
  },
  {
   "cell_type": "code",
   "execution_count": 4,
   "metadata": {},
   "outputs": [],
   "source": [
    "geolocation = geolocation.groupby(by=[\"geolocation_city\"]).agg({\n",
    "    'geolocation_lat': 'mean',\n",
    "    'geolocation_lng': 'mean'\n",
    "}).reset_index()\n",
    "\n",
    "customer_locations = customers.merge(geolocation, left_on='customer_city', right_on='geolocation_city')"
   ]
  },
  {
   "cell_type": "code",
   "execution_count": 5,
   "metadata": {},
   "outputs": [],
   "source": [
    "# Replace the original category names with English names\n",
    "merged = products.merge(category_translation, on='product_category_name', how='left')\n",
    "merged['product_category_name'] = merged['product_category_name_english']\n",
    "selected_columns = [\n",
    "    'product_id',\n",
    "    'product_category_name',\n",
    "]\n",
    "products_translated = merged[selected_columns]\n",
    "\n",
    "orders_categorised = order_items.merge(products_translated, on='product_id')"
   ]
  },
  {
   "cell_type": "code",
   "execution_count": 6,
   "metadata": {},
   "outputs": [],
   "source": [
    "orders_final = orders_categorised.merge(orders, on='order_id')\n",
    "orders_final['order_purchase_timestamp'] = pd.to_datetime(orders_final['order_purchase_timestamp'])\n",
    "orders_final['order_delivered_customer_date'] = pd.to_datetime(orders_final['order_delivered_customer_date'])\n",
    "\n",
    "orders_final['delivery_days'] = orders_final.apply(\n",
    "    lambda row: (row['order_delivered_customer_date'] - row['order_purchase_timestamp']).days if pd.notnull(row['order_delivered_customer_date']) else None, \n",
    "    axis=1\n",
    ")\n",
    "\n",
    "orders_final = orders_final.merge(customer_locations, on='customer_id')\n",
    "orders_final = orders_final.merge(reviews, on='order_id')"
   ]
  },
  {
   "cell_type": "code",
   "execution_count": 7,
   "metadata": {},
   "outputs": [],
   "source": [
    "selected_columns = [\n",
    "    'price',\n",
    "    'product_category_name',\n",
    "    'order_status',\n",
    "    'order_purchase_timestamp',\n",
    "    'delivery_days',\n",
    "    'order_id',\n",
    "    'customer_zip_code_prefix',\n",
    "    'customer_city',\n",
    "    'customer_state',\n",
    "    'geolocation_lat',\n",
    "    'geolocation_lng',\n",
    "    'review_score',\n",
    "\n",
    "]\n",
    "orders_final = orders_final[selected_columns]"
   ]
  },
  {
   "cell_type": "code",
   "execution_count": 8,
   "metadata": {},
   "outputs": [],
   "source": [
    "orders_final.to_csv('output/consolidated_orders.csv', index=False)"
   ]
  }
 ],
 "metadata": {
  "kernelspec": {
   "display_name": ".venv",
   "language": "python",
   "name": "python3"
  },
  "language_info": {
   "codemirror_mode": {
    "name": "ipython",
    "version": 3
   },
   "file_extension": ".py",
   "mimetype": "text/x-python",
   "name": "python",
   "nbconvert_exporter": "python",
   "pygments_lexer": "ipython3",
   "version": "3.11.2"
  }
 },
 "nbformat": 4,
 "nbformat_minor": 2
}
